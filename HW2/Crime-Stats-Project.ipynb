{
  "cells": [
    {
      "cell_type": "markdown",
      "id": "55e6b918-afac-43e8-b338-43f8ac64014f",
      "metadata": {
        "id": "55e6b918-afac-43e8-b338-43f8ac64014f"
      },
      "source": [
        "##  Deep Neural Networks Project"
      ]
    },
    {
      "cell_type": "markdown",
      "id": "1a8e066d-2849-4a6e-9c71-bb98d605ae07",
      "metadata": {
        "id": "1a8e066d-2849-4a6e-9c71-bb98d605ae07"
      },
      "source": [
        "In this project, you will be working with a real-world data set from the Las Vegas Metropolitan Police Department. The dataset  contains information about the reported incidents, including the time and location of the crime, type of incident, and number of persons involved."
      ]
    },
    {
      "cell_type": "markdown",
      "id": "9e87fac7-352a-4c39-b087-76254b5e2743",
      "metadata": {
        "id": "9e87fac7-352a-4c39-b087-76254b5e2743"
      },
      "source": [
        "The dataset is downloaded from the public docket at:\n",
        "https://opendata-lvmpd.hub.arcgis.com\n",
        "\n",
        "let's read the csv file and transform the data:"
      ]
    },
    {
      "cell_type": "code",
      "execution_count": 50,
      "id": "637211a4-582f-426b-a127-c3f284463f35",
      "metadata": {
        "id": "637211a4-582f-426b-a127-c3f284463f35"
      },
      "outputs": [],
      "source": [
        "import torch\n",
        "import pandas as pd\n",
        "from torch.utils.data import DataLoader, Dataset\n",
        "import matplotlib.pyplot as plt\n",
        "import seaborn as sns\n",
        "import numpy as np"
      ]
    },
    {
      "cell_type": "code",
      "execution_count": 105,
      "id": "bcf40b02-80b6-4abc-a662-f7ed50a65181",
      "metadata": {
        "id": "bcf40b02-80b6-4abc-a662-f7ed50a65181"
      },
      "outputs": [],
      "source": [
        "orig_df = pd.read_csv('LVMPD-Stats.csv', parse_dates=['ReportedOn'])"
      ]
    },
    {
      "cell_type": "code",
      "execution_count": 106,
      "id": "e1ca1d15-3955-4971-a3c4-c1a73b62edda",
      "metadata": {
        "id": "e1ca1d15-3955-4971-a3c4-c1a73b62edda"
      },
      "outputs": [],
      "source": [
        "df = pd.read_csv('LVMPD-Stats.csv', parse_dates=['ReportedOn'],\n",
        "                 usecols = ['X', 'Y', 'ReportedOn',\n",
        "                            'Area_Command','NIBRSOffenseCode',\n",
        "                            'VictimCount' ] )\n",
        "\n",
        "df['DayOfWeek'] = df['ReportedOn'].dt.day_name()\n",
        "df['Time' ]     = df['ReportedOn'].dt.hour\n",
        "df.drop(columns = 'ReportedOn', inplace=True)"
      ]
    },
    {
      "cell_type": "code",
      "execution_count": 101,
      "id": "3ddc413d-ba3f-4204-bc18-7fdd4de8d221",
      "metadata": {
        "id": "3ddc413d-ba3f-4204-bc18-7fdd4de8d221"
      },
      "outputs": [],
      "source": [
        "df['X'] = df['X']\n",
        "df['Y'] = df['Y']\n",
        "df['Time'] = pd.factorize(df['Time'])[0]\n",
        "df['DayOfWeek'] = pd.factorize(df['DayOfWeek'])[0]\n",
        "df.Area_Command = pd.factorize(df['Area_Command'])[0]\n",
        "df.VictimCount = pd.factorize(df['VictimCount'])[0]\n",
        "df.NIBRSOffenseCode = pd.factorize(df['NIBRSOffenseCode'])[0]\n",
        "df.dropna(inplace=True)"
      ]
    },
    {
      "cell_type": "code",
      "execution_count": 95,
      "id": "a9c6162f-9686-4195-818d-950a6368c686",
      "metadata": {
        "id": "a9c6162f-9686-4195-818d-950a6368c686"
      },
      "outputs": [],
      "source": [
        "df= df[['X', 'Y', 'Area_Command', 'NIBRSOffenseCode',\n",
        "       'DayOfWeek', 'Time','VictimCount']]"
      ]
    },
    {
      "cell_type": "code",
      "execution_count": 96,
      "id": "a90bc78a-6d1b-4fe4-a1b0-8333aec1c851",
      "metadata": {
        "colab": {
          "base_uri": "https://localhost:8080/"
        },
        "id": "a90bc78a-6d1b-4fe4-a1b0-8333aec1c851",
        "outputId": "52c7e839-3e67-4d4a-aa64-5b107e2496ac"
      },
      "outputs": [
        {
          "output_type": "execute_result",
          "data": {
            "text/plain": [
              "(275, 7)"
            ]
          },
          "metadata": {},
          "execution_count": 96
        }
      ],
      "source": [
        "df.values.shape"
      ]
    },
    {
      "cell_type": "markdown",
      "id": "651605b1-8d2c-4d3e-a09e-9aef6e550fc6",
      "metadata": {
        "id": "651605b1-8d2c-4d3e-a09e-9aef6e550fc6"
      },
      "source": [
        "# Goal\n",
        "The goal is to build a predictive model that is trained on the following data:\n",
        "* latitude and longitude (location)\n",
        "* Hour of the day\n",
        "* Day of the week\n",
        "* Area-of-command code: The police designation of the bureau of the operation.\n",
        "* Classification code for the crime committed\n",
        "  \n",
        "The predicted variable is the number of persons involved in the accident.\n"
      ]
    },
    {
      "cell_type": "markdown",
      "id": "0e54f0b8-83f9-4db9-88f9-f5a595342069",
      "metadata": {
        "id": "0e54f0b8-83f9-4db9-88f9-f5a595342069"
      },
      "source": [
        "## Task 1\n",
        "* print a few rows of the values in the dataframe ``df`` and explain what each column of data means.\n",
        "* identify the input and target variables\n",
        "* what is the range of values in each column? Do you need to scale, shift or normalize your data?\n"
      ]
    },
    {
      "cell_type": "markdown",
      "source": [
        "#Answer"
      ],
      "metadata": {
        "id": "T58ZtodQ34mZ"
      },
      "id": "T58ZtodQ34mZ"
    },
    {
      "cell_type": "code",
      "source": [
        "df[:5]"
      ],
      "metadata": {
        "colab": {
          "base_uri": "https://localhost:8080/",
          "height": 206
        },
        "id": "IbSGrbSAK1WK",
        "outputId": "330eb9f8-5870-43e5-a7f3-a041fd5527c1"
      },
      "id": "IbSGrbSAK1WK",
      "execution_count": null,
      "outputs": [
        {
          "output_type": "execute_result",
          "data": {
            "text/plain": [
              "            X          Y  Area_Command  NIBRSOffenseCode  DayOfWeek  Time  \\\n",
              "0 -115.087518  36.216702             0                 0          0     0   \n",
              "1 -115.240172  36.189693             1                 1          1     1   \n",
              "2 -115.143088  36.181329             2                 1          2     0   \n",
              "3 -115.225014  36.117633             3                 1          1     2   \n",
              "4 -115.176708  36.095967             4                 1          1     3   \n",
              "\n",
              "   VictimCount  \n",
              "0            0  \n",
              "1            0  \n",
              "2            1  \n",
              "3            2  \n",
              "4            0  "
            ],
            "text/html": [
              "\n",
              "  <div id=\"df-6bdc0ce9-ac16-4bb1-a878-ce9d037e0a91\" class=\"colab-df-container\">\n",
              "    <div>\n",
              "<style scoped>\n",
              "    .dataframe tbody tr th:only-of-type {\n",
              "        vertical-align: middle;\n",
              "    }\n",
              "\n",
              "    .dataframe tbody tr th {\n",
              "        vertical-align: top;\n",
              "    }\n",
              "\n",
              "    .dataframe thead th {\n",
              "        text-align: right;\n",
              "    }\n",
              "</style>\n",
              "<table border=\"1\" class=\"dataframe\">\n",
              "  <thead>\n",
              "    <tr style=\"text-align: right;\">\n",
              "      <th></th>\n",
              "      <th>X</th>\n",
              "      <th>Y</th>\n",
              "      <th>Area_Command</th>\n",
              "      <th>NIBRSOffenseCode</th>\n",
              "      <th>DayOfWeek</th>\n",
              "      <th>Time</th>\n",
              "      <th>VictimCount</th>\n",
              "    </tr>\n",
              "  </thead>\n",
              "  <tbody>\n",
              "    <tr>\n",
              "      <th>0</th>\n",
              "      <td>-115.087518</td>\n",
              "      <td>36.216702</td>\n",
              "      <td>0</td>\n",
              "      <td>0</td>\n",
              "      <td>0</td>\n",
              "      <td>0</td>\n",
              "      <td>0</td>\n",
              "    </tr>\n",
              "    <tr>\n",
              "      <th>1</th>\n",
              "      <td>-115.240172</td>\n",
              "      <td>36.189693</td>\n",
              "      <td>1</td>\n",
              "      <td>1</td>\n",
              "      <td>1</td>\n",
              "      <td>1</td>\n",
              "      <td>0</td>\n",
              "    </tr>\n",
              "    <tr>\n",
              "      <th>2</th>\n",
              "      <td>-115.143088</td>\n",
              "      <td>36.181329</td>\n",
              "      <td>2</td>\n",
              "      <td>1</td>\n",
              "      <td>2</td>\n",
              "      <td>0</td>\n",
              "      <td>1</td>\n",
              "    </tr>\n",
              "    <tr>\n",
              "      <th>3</th>\n",
              "      <td>-115.225014</td>\n",
              "      <td>36.117633</td>\n",
              "      <td>3</td>\n",
              "      <td>1</td>\n",
              "      <td>1</td>\n",
              "      <td>2</td>\n",
              "      <td>2</td>\n",
              "    </tr>\n",
              "    <tr>\n",
              "      <th>4</th>\n",
              "      <td>-115.176708</td>\n",
              "      <td>36.095967</td>\n",
              "      <td>4</td>\n",
              "      <td>1</td>\n",
              "      <td>1</td>\n",
              "      <td>3</td>\n",
              "      <td>0</td>\n",
              "    </tr>\n",
              "  </tbody>\n",
              "</table>\n",
              "</div>\n",
              "    <div class=\"colab-df-buttons\">\n",
              "\n",
              "  <div class=\"colab-df-container\">\n",
              "    <button class=\"colab-df-convert\" onclick=\"convertToInteractive('df-6bdc0ce9-ac16-4bb1-a878-ce9d037e0a91')\"\n",
              "            title=\"Convert this dataframe to an interactive table.\"\n",
              "            style=\"display:none;\">\n",
              "\n",
              "  <svg xmlns=\"http://www.w3.org/2000/svg\" height=\"24px\" viewBox=\"0 -960 960 960\">\n",
              "    <path d=\"M120-120v-720h720v720H120Zm60-500h600v-160H180v160Zm220 220h160v-160H400v160Zm0 220h160v-160H400v160ZM180-400h160v-160H180v160Zm440 0h160v-160H620v160ZM180-180h160v-160H180v160Zm440 0h160v-160H620v160Z\"/>\n",
              "  </svg>\n",
              "    </button>\n",
              "\n",
              "  <style>\n",
              "    .colab-df-container {\n",
              "      display:flex;\n",
              "      gap: 12px;\n",
              "    }\n",
              "\n",
              "    .colab-df-convert {\n",
              "      background-color: #E8F0FE;\n",
              "      border: none;\n",
              "      border-radius: 50%;\n",
              "      cursor: pointer;\n",
              "      display: none;\n",
              "      fill: #1967D2;\n",
              "      height: 32px;\n",
              "      padding: 0 0 0 0;\n",
              "      width: 32px;\n",
              "    }\n",
              "\n",
              "    .colab-df-convert:hover {\n",
              "      background-color: #E2EBFA;\n",
              "      box-shadow: 0px 1px 2px rgba(60, 64, 67, 0.3), 0px 1px 3px 1px rgba(60, 64, 67, 0.15);\n",
              "      fill: #174EA6;\n",
              "    }\n",
              "\n",
              "    .colab-df-buttons div {\n",
              "      margin-bottom: 4px;\n",
              "    }\n",
              "\n",
              "    [theme=dark] .colab-df-convert {\n",
              "      background-color: #3B4455;\n",
              "      fill: #D2E3FC;\n",
              "    }\n",
              "\n",
              "    [theme=dark] .colab-df-convert:hover {\n",
              "      background-color: #434B5C;\n",
              "      box-shadow: 0px 1px 3px 1px rgba(0, 0, 0, 0.15);\n",
              "      filter: drop-shadow(0px 1px 2px rgba(0, 0, 0, 0.3));\n",
              "      fill: #FFFFFF;\n",
              "    }\n",
              "  </style>\n",
              "\n",
              "    <script>\n",
              "      const buttonEl =\n",
              "        document.querySelector('#df-6bdc0ce9-ac16-4bb1-a878-ce9d037e0a91 button.colab-df-convert');\n",
              "      buttonEl.style.display =\n",
              "        google.colab.kernel.accessAllowed ? 'block' : 'none';\n",
              "\n",
              "      async function convertToInteractive(key) {\n",
              "        const element = document.querySelector('#df-6bdc0ce9-ac16-4bb1-a878-ce9d037e0a91');\n",
              "        const dataTable =\n",
              "          await google.colab.kernel.invokeFunction('convertToInteractive',\n",
              "                                                    [key], {});\n",
              "        if (!dataTable) return;\n",
              "\n",
              "        const docLinkHtml = 'Like what you see? Visit the ' +\n",
              "          '<a target=\"_blank\" href=https://colab.research.google.com/notebooks/data_table.ipynb>data table notebook</a>'\n",
              "          + ' to learn more about interactive tables.';\n",
              "        element.innerHTML = '';\n",
              "        dataTable['output_type'] = 'display_data';\n",
              "        await google.colab.output.renderOutput(dataTable, element);\n",
              "        const docLink = document.createElement('div');\n",
              "        docLink.innerHTML = docLinkHtml;\n",
              "        element.appendChild(docLink);\n",
              "      }\n",
              "    </script>\n",
              "  </div>\n",
              "\n",
              "\n",
              "<div id=\"df-10d2f2bb-5722-400f-bba0-f0aad99ccaa2\">\n",
              "  <button class=\"colab-df-quickchart\" onclick=\"quickchart('df-10d2f2bb-5722-400f-bba0-f0aad99ccaa2')\"\n",
              "            title=\"Suggest charts.\"\n",
              "            style=\"display:none;\">\n",
              "\n",
              "<svg xmlns=\"http://www.w3.org/2000/svg\" height=\"24px\"viewBox=\"0 0 24 24\"\n",
              "     width=\"24px\">\n",
              "    <g>\n",
              "        <path d=\"M19 3H5c-1.1 0-2 .9-2 2v14c0 1.1.9 2 2 2h14c1.1 0 2-.9 2-2V5c0-1.1-.9-2-2-2zM9 17H7v-7h2v7zm4 0h-2V7h2v10zm4 0h-2v-4h2v4z\"/>\n",
              "    </g>\n",
              "</svg>\n",
              "  </button>\n",
              "\n",
              "<style>\n",
              "  .colab-df-quickchart {\n",
              "      --bg-color: #E8F0FE;\n",
              "      --fill-color: #1967D2;\n",
              "      --hover-bg-color: #E2EBFA;\n",
              "      --hover-fill-color: #174EA6;\n",
              "      --disabled-fill-color: #AAA;\n",
              "      --disabled-bg-color: #DDD;\n",
              "  }\n",
              "\n",
              "  [theme=dark] .colab-df-quickchart {\n",
              "      --bg-color: #3B4455;\n",
              "      --fill-color: #D2E3FC;\n",
              "      --hover-bg-color: #434B5C;\n",
              "      --hover-fill-color: #FFFFFF;\n",
              "      --disabled-bg-color: #3B4455;\n",
              "      --disabled-fill-color: #666;\n",
              "  }\n",
              "\n",
              "  .colab-df-quickchart {\n",
              "    background-color: var(--bg-color);\n",
              "    border: none;\n",
              "    border-radius: 50%;\n",
              "    cursor: pointer;\n",
              "    display: none;\n",
              "    fill: var(--fill-color);\n",
              "    height: 32px;\n",
              "    padding: 0;\n",
              "    width: 32px;\n",
              "  }\n",
              "\n",
              "  .colab-df-quickchart:hover {\n",
              "    background-color: var(--hover-bg-color);\n",
              "    box-shadow: 0 1px 2px rgba(60, 64, 67, 0.3), 0 1px 3px 1px rgba(60, 64, 67, 0.15);\n",
              "    fill: var(--button-hover-fill-color);\n",
              "  }\n",
              "\n",
              "  .colab-df-quickchart-complete:disabled,\n",
              "  .colab-df-quickchart-complete:disabled:hover {\n",
              "    background-color: var(--disabled-bg-color);\n",
              "    fill: var(--disabled-fill-color);\n",
              "    box-shadow: none;\n",
              "  }\n",
              "\n",
              "  .colab-df-spinner {\n",
              "    border: 2px solid var(--fill-color);\n",
              "    border-color: transparent;\n",
              "    border-bottom-color: var(--fill-color);\n",
              "    animation:\n",
              "      spin 1s steps(1) infinite;\n",
              "  }\n",
              "\n",
              "  @keyframes spin {\n",
              "    0% {\n",
              "      border-color: transparent;\n",
              "      border-bottom-color: var(--fill-color);\n",
              "      border-left-color: var(--fill-color);\n",
              "    }\n",
              "    20% {\n",
              "      border-color: transparent;\n",
              "      border-left-color: var(--fill-color);\n",
              "      border-top-color: var(--fill-color);\n",
              "    }\n",
              "    30% {\n",
              "      border-color: transparent;\n",
              "      border-left-color: var(--fill-color);\n",
              "      border-top-color: var(--fill-color);\n",
              "      border-right-color: var(--fill-color);\n",
              "    }\n",
              "    40% {\n",
              "      border-color: transparent;\n",
              "      border-right-color: var(--fill-color);\n",
              "      border-top-color: var(--fill-color);\n",
              "    }\n",
              "    60% {\n",
              "      border-color: transparent;\n",
              "      border-right-color: var(--fill-color);\n",
              "    }\n",
              "    80% {\n",
              "      border-color: transparent;\n",
              "      border-right-color: var(--fill-color);\n",
              "      border-bottom-color: var(--fill-color);\n",
              "    }\n",
              "    90% {\n",
              "      border-color: transparent;\n",
              "      border-bottom-color: var(--fill-color);\n",
              "    }\n",
              "  }\n",
              "</style>\n",
              "\n",
              "  <script>\n",
              "    async function quickchart(key) {\n",
              "      const quickchartButtonEl =\n",
              "        document.querySelector('#' + key + ' button');\n",
              "      quickchartButtonEl.disabled = true;  // To prevent multiple clicks.\n",
              "      quickchartButtonEl.classList.add('colab-df-spinner');\n",
              "      try {\n",
              "        const charts = await google.colab.kernel.invokeFunction(\n",
              "            'suggestCharts', [key], {});\n",
              "      } catch (error) {\n",
              "        console.error('Error during call to suggestCharts:', error);\n",
              "      }\n",
              "      quickchartButtonEl.classList.remove('colab-df-spinner');\n",
              "      quickchartButtonEl.classList.add('colab-df-quickchart-complete');\n",
              "    }\n",
              "    (() => {\n",
              "      let quickchartButtonEl =\n",
              "        document.querySelector('#df-10d2f2bb-5722-400f-bba0-f0aad99ccaa2 button');\n",
              "      quickchartButtonEl.style.display =\n",
              "        google.colab.kernel.accessAllowed ? 'block' : 'none';\n",
              "    })();\n",
              "  </script>\n",
              "</div>\n",
              "    </div>\n",
              "  </div>\n"
            ]
          },
          "metadata": {},
          "execution_count": 17
        }
      ]
    },
    {
      "cell_type": "code",
      "source": [
        "ac_set = set()\n",
        "for ac in df['Area_Command']:\n",
        "  ac_set.add(ac)"
      ],
      "metadata": {
        "id": "J41P1OTqMoEZ"
      },
      "id": "J41P1OTqMoEZ",
      "execution_count": null,
      "outputs": []
    },
    {
      "cell_type": "code",
      "source": [
        "code_set = set()\n",
        "for code in df['NIBRSOffenseCode']:\n",
        "  code_set.add(code)"
      ],
      "metadata": {
        "id": "MbaZp2AAMHZK"
      },
      "id": "MbaZp2AAMHZK",
      "execution_count": null,
      "outputs": []
    },
    {
      "cell_type": "code",
      "source": [
        "dow_set = set()\n",
        "for dow in df['DayOfWeek']:\n",
        "  dow_set.add(dow)"
      ],
      "metadata": {
        "id": "ROWE2P0mMc-z"
      },
      "id": "ROWE2P0mMc-z",
      "execution_count": null,
      "outputs": []
    },
    {
      "cell_type": "code",
      "source": [
        "time_set = set()\n",
        "for time in df['Time']:\n",
        "  time_set.add(time)"
      ],
      "metadata": {
        "id": "NkKCkOQlMnNF"
      },
      "id": "NkKCkOQlMnNF",
      "execution_count": null,
      "outputs": []
    },
    {
      "cell_type": "code",
      "source": [
        "vc_set = set()\n",
        "for vc in df['VictimCount']:\n",
        "  vc_set.add(vc)"
      ],
      "metadata": {
        "id": "wd4haqfQM1ny"
      },
      "id": "wd4haqfQM1ny",
      "execution_count": null,
      "outputs": []
    },
    {
      "cell_type": "code",
      "source": [
        "print(\n",
        "f\"All area commands: {ac_set}\\nAll Offense Code: {code_set}\\nAll day of week: {dow_set}\\nAll time code: {time_set}\\nALl Victim Count: {vc_set}\"\n",
        ")"
      ],
      "metadata": {
        "colab": {
          "base_uri": "https://localhost:8080/"
        },
        "id": "r7JuZZ2kM7qX",
        "outputId": "70f6f917-f4d8-448f-dfd4-66467c2af950"
      },
      "id": "r7JuZZ2kM7qX",
      "execution_count": null,
      "outputs": [
        {
          "output_type": "stream",
          "name": "stdout",
          "text": [
            "All area commands: {0, 1, 2, 3, 4, 5, 6, 7, 8, 9, 10, 11}\n",
            "All Offense Code: {0, 1, 2}\n",
            "All day of week: {0, 1, 2, 3, 4, 5, 6}\n",
            "All time code: {0, 1, 2, 3, 4, 5, 6, 7, 8, 9, 10, 11, 12, 13, 14, 15, 16, 17, 18, 19, 20, 21, 22, 23}\n",
            "ALl Victim Count: {0, 1, 2, 3, 4, 5, 6}\n"
          ]
        }
      ]
    },
    {
      "cell_type": "markdown",
      "source": [
        "#Explaination of Each Column\n",
        "\n",
        "\n",
        "\n",
        "1.   X: Denotes the Longitude (Location Co-ordinate)\n",
        "2.   Y: Denotes the Latitude (Location Co-ordinate)\n",
        "3.   Area Command: Area Command makes it clear that, this data has 11 different locations under consideration. This is different from Latitude and Longitude which gives exact co-ordinate but rather has range of co-ordinates\n",
        "4.   NIBRSOffenceCode: This is a classification code of the commited offence.\n",
        "5.   DayOfWeek: Denotes the 7 days of the week, thus the observed range between [0, 6].\n",
        "6. Time: This denotes the hour of the day when the crime was reported, thus it has 24 values having a range of [0. 23].\n",
        "7. VictimCount: Number of victims involved in the accident.\n"
      ],
      "metadata": {
        "id": "IkKpWKZWNn-X"
      },
      "id": "IkKpWKZWNn-X"
    },
    {
      "cell_type": "markdown",
      "source": [
        "#Input and Target Variables\n",
        "\n",
        "**X, Y,\tArea_Command,\tNIBRSOffenseCode,\tDayOfWeek, Time** are input variables.\n",
        "\n",
        "**VictimCount** is the target variable."
      ],
      "metadata": {
        "id": "moWl54Ix3MEf"
      },
      "id": "moWl54Ix3MEf"
    },
    {
      "cell_type": "markdown",
      "source": [
        "#Range of Values\n",
        "\n",
        "\n",
        "1.   Area_Command: 0 to 11\n",
        "2.   NIBRSOffenseCode: 0 to 2\n",
        "3.   DayOfWeek: 0 to 6\n",
        "4.   Time: 0 to 23\n",
        "5.   VictimCount: 0 to 6\n",
        "\n"
      ],
      "metadata": {
        "id": "f0-rrr2I2c6R"
      },
      "id": "f0-rrr2I2c6R"
    },
    {
      "cell_type": "markdown",
      "id": "5549ecc9-3c0b-4efa-9a1f-340a25a1e4be",
      "metadata": {
        "id": "5549ecc9-3c0b-4efa-9a1f-340a25a1e4be"
      },
      "source": [
        "## Task 2\n",
        "\n",
        "* Create two `DataLoader` objects for training and testing based on the input and output variables. Pick a reasonable batch size and verify the shape of data by iterating over the one dataset and printing the shape of the batched data."
      ]
    },
    {
      "cell_type": "markdown",
      "source": [
        "#Answer"
      ],
      "metadata": {
        "id": "MeocvTQ532O2"
      },
      "id": "MeocvTQ532O2"
    },
    {
      "cell_type": "code",
      "execution_count": null,
      "id": "00fe4287-934b-4799-9e43-c3571acfbab4",
      "metadata": {
        "id": "00fe4287-934b-4799-9e43-c3571acfbab4"
      },
      "outputs": [],
      "source": [
        "X = df.drop(columns='VictimCount')\n",
        "y = df['VictimCount']"
      ]
    },
    {
      "cell_type": "code",
      "source": [
        "X"
      ],
      "metadata": {
        "colab": {
          "base_uri": "https://localhost:8080/",
          "height": 423
        },
        "id": "hsXZ0Fio65wg",
        "outputId": "bb993cf5-0ac9-491d-e5ed-0a9aa22fc5f8"
      },
      "id": "hsXZ0Fio65wg",
      "execution_count": null,
      "outputs": [
        {
          "output_type": "execute_result",
          "data": {
            "text/plain": [
              "              X          Y  Area_Command  NIBRSOffenseCode  DayOfWeek  Time\n",
              "0   -115.087518  36.216702             0                 0          0     0\n",
              "1   -115.240172  36.189693             1                 1          1     1\n",
              "2   -115.143088  36.181329             2                 1          2     0\n",
              "3   -115.225014  36.117633             3                 1          1     2\n",
              "4   -115.176708  36.095967             4                 1          1     3\n",
              "..          ...        ...           ...               ...        ...   ...\n",
              "270 -115.114739  36.119592             5                 1          5    18\n",
              "271 -115.080764  36.162648             0                 1          5    17\n",
              "272 -115.172073  36.123012             4                 1          1    16\n",
              "273 -115.152593  36.066073             5                 1          6    23\n",
              "274 -115.060345  36.137296             9                 1          6    13\n",
              "\n",
              "[275 rows x 6 columns]"
            ],
            "text/html": [
              "\n",
              "  <div id=\"df-8b1730f5-0d8e-48bc-848b-c7b4ef5f6f4b\" class=\"colab-df-container\">\n",
              "    <div>\n",
              "<style scoped>\n",
              "    .dataframe tbody tr th:only-of-type {\n",
              "        vertical-align: middle;\n",
              "    }\n",
              "\n",
              "    .dataframe tbody tr th {\n",
              "        vertical-align: top;\n",
              "    }\n",
              "\n",
              "    .dataframe thead th {\n",
              "        text-align: right;\n",
              "    }\n",
              "</style>\n",
              "<table border=\"1\" class=\"dataframe\">\n",
              "  <thead>\n",
              "    <tr style=\"text-align: right;\">\n",
              "      <th></th>\n",
              "      <th>X</th>\n",
              "      <th>Y</th>\n",
              "      <th>Area_Command</th>\n",
              "      <th>NIBRSOffenseCode</th>\n",
              "      <th>DayOfWeek</th>\n",
              "      <th>Time</th>\n",
              "    </tr>\n",
              "  </thead>\n",
              "  <tbody>\n",
              "    <tr>\n",
              "      <th>0</th>\n",
              "      <td>-115.087518</td>\n",
              "      <td>36.216702</td>\n",
              "      <td>0</td>\n",
              "      <td>0</td>\n",
              "      <td>0</td>\n",
              "      <td>0</td>\n",
              "    </tr>\n",
              "    <tr>\n",
              "      <th>1</th>\n",
              "      <td>-115.240172</td>\n",
              "      <td>36.189693</td>\n",
              "      <td>1</td>\n",
              "      <td>1</td>\n",
              "      <td>1</td>\n",
              "      <td>1</td>\n",
              "    </tr>\n",
              "    <tr>\n",
              "      <th>2</th>\n",
              "      <td>-115.143088</td>\n",
              "      <td>36.181329</td>\n",
              "      <td>2</td>\n",
              "      <td>1</td>\n",
              "      <td>2</td>\n",
              "      <td>0</td>\n",
              "    </tr>\n",
              "    <tr>\n",
              "      <th>3</th>\n",
              "      <td>-115.225014</td>\n",
              "      <td>36.117633</td>\n",
              "      <td>3</td>\n",
              "      <td>1</td>\n",
              "      <td>1</td>\n",
              "      <td>2</td>\n",
              "    </tr>\n",
              "    <tr>\n",
              "      <th>4</th>\n",
              "      <td>-115.176708</td>\n",
              "      <td>36.095967</td>\n",
              "      <td>4</td>\n",
              "      <td>1</td>\n",
              "      <td>1</td>\n",
              "      <td>3</td>\n",
              "    </tr>\n",
              "    <tr>\n",
              "      <th>...</th>\n",
              "      <td>...</td>\n",
              "      <td>...</td>\n",
              "      <td>...</td>\n",
              "      <td>...</td>\n",
              "      <td>...</td>\n",
              "      <td>...</td>\n",
              "    </tr>\n",
              "    <tr>\n",
              "      <th>270</th>\n",
              "      <td>-115.114739</td>\n",
              "      <td>36.119592</td>\n",
              "      <td>5</td>\n",
              "      <td>1</td>\n",
              "      <td>5</td>\n",
              "      <td>18</td>\n",
              "    </tr>\n",
              "    <tr>\n",
              "      <th>271</th>\n",
              "      <td>-115.080764</td>\n",
              "      <td>36.162648</td>\n",
              "      <td>0</td>\n",
              "      <td>1</td>\n",
              "      <td>5</td>\n",
              "      <td>17</td>\n",
              "    </tr>\n",
              "    <tr>\n",
              "      <th>272</th>\n",
              "      <td>-115.172073</td>\n",
              "      <td>36.123012</td>\n",
              "      <td>4</td>\n",
              "      <td>1</td>\n",
              "      <td>1</td>\n",
              "      <td>16</td>\n",
              "    </tr>\n",
              "    <tr>\n",
              "      <th>273</th>\n",
              "      <td>-115.152593</td>\n",
              "      <td>36.066073</td>\n",
              "      <td>5</td>\n",
              "      <td>1</td>\n",
              "      <td>6</td>\n",
              "      <td>23</td>\n",
              "    </tr>\n",
              "    <tr>\n",
              "      <th>274</th>\n",
              "      <td>-115.060345</td>\n",
              "      <td>36.137296</td>\n",
              "      <td>9</td>\n",
              "      <td>1</td>\n",
              "      <td>6</td>\n",
              "      <td>13</td>\n",
              "    </tr>\n",
              "  </tbody>\n",
              "</table>\n",
              "<p>275 rows × 6 columns</p>\n",
              "</div>\n",
              "    <div class=\"colab-df-buttons\">\n",
              "\n",
              "  <div class=\"colab-df-container\">\n",
              "    <button class=\"colab-df-convert\" onclick=\"convertToInteractive('df-8b1730f5-0d8e-48bc-848b-c7b4ef5f6f4b')\"\n",
              "            title=\"Convert this dataframe to an interactive table.\"\n",
              "            style=\"display:none;\">\n",
              "\n",
              "  <svg xmlns=\"http://www.w3.org/2000/svg\" height=\"24px\" viewBox=\"0 -960 960 960\">\n",
              "    <path d=\"M120-120v-720h720v720H120Zm60-500h600v-160H180v160Zm220 220h160v-160H400v160Zm0 220h160v-160H400v160ZM180-400h160v-160H180v160Zm440 0h160v-160H620v160ZM180-180h160v-160H180v160Zm440 0h160v-160H620v160Z\"/>\n",
              "  </svg>\n",
              "    </button>\n",
              "\n",
              "  <style>\n",
              "    .colab-df-container {\n",
              "      display:flex;\n",
              "      gap: 12px;\n",
              "    }\n",
              "\n",
              "    .colab-df-convert {\n",
              "      background-color: #E8F0FE;\n",
              "      border: none;\n",
              "      border-radius: 50%;\n",
              "      cursor: pointer;\n",
              "      display: none;\n",
              "      fill: #1967D2;\n",
              "      height: 32px;\n",
              "      padding: 0 0 0 0;\n",
              "      width: 32px;\n",
              "    }\n",
              "\n",
              "    .colab-df-convert:hover {\n",
              "      background-color: #E2EBFA;\n",
              "      box-shadow: 0px 1px 2px rgba(60, 64, 67, 0.3), 0px 1px 3px 1px rgba(60, 64, 67, 0.15);\n",
              "      fill: #174EA6;\n",
              "    }\n",
              "\n",
              "    .colab-df-buttons div {\n",
              "      margin-bottom: 4px;\n",
              "    }\n",
              "\n",
              "    [theme=dark] .colab-df-convert {\n",
              "      background-color: #3B4455;\n",
              "      fill: #D2E3FC;\n",
              "    }\n",
              "\n",
              "    [theme=dark] .colab-df-convert:hover {\n",
              "      background-color: #434B5C;\n",
              "      box-shadow: 0px 1px 3px 1px rgba(0, 0, 0, 0.15);\n",
              "      filter: drop-shadow(0px 1px 2px rgba(0, 0, 0, 0.3));\n",
              "      fill: #FFFFFF;\n",
              "    }\n",
              "  </style>\n",
              "\n",
              "    <script>\n",
              "      const buttonEl =\n",
              "        document.querySelector('#df-8b1730f5-0d8e-48bc-848b-c7b4ef5f6f4b button.colab-df-convert');\n",
              "      buttonEl.style.display =\n",
              "        google.colab.kernel.accessAllowed ? 'block' : 'none';\n",
              "\n",
              "      async function convertToInteractive(key) {\n",
              "        const element = document.querySelector('#df-8b1730f5-0d8e-48bc-848b-c7b4ef5f6f4b');\n",
              "        const dataTable =\n",
              "          await google.colab.kernel.invokeFunction('convertToInteractive',\n",
              "                                                    [key], {});\n",
              "        if (!dataTable) return;\n",
              "\n",
              "        const docLinkHtml = 'Like what you see? Visit the ' +\n",
              "          '<a target=\"_blank\" href=https://colab.research.google.com/notebooks/data_table.ipynb>data table notebook</a>'\n",
              "          + ' to learn more about interactive tables.';\n",
              "        element.innerHTML = '';\n",
              "        dataTable['output_type'] = 'display_data';\n",
              "        await google.colab.output.renderOutput(dataTable, element);\n",
              "        const docLink = document.createElement('div');\n",
              "        docLink.innerHTML = docLinkHtml;\n",
              "        element.appendChild(docLink);\n",
              "      }\n",
              "    </script>\n",
              "  </div>\n",
              "\n",
              "\n",
              "<div id=\"df-40d122b3-3be0-4d0f-9c64-24e2e20f2a31\">\n",
              "  <button class=\"colab-df-quickchart\" onclick=\"quickchart('df-40d122b3-3be0-4d0f-9c64-24e2e20f2a31')\"\n",
              "            title=\"Suggest charts.\"\n",
              "            style=\"display:none;\">\n",
              "\n",
              "<svg xmlns=\"http://www.w3.org/2000/svg\" height=\"24px\"viewBox=\"0 0 24 24\"\n",
              "     width=\"24px\">\n",
              "    <g>\n",
              "        <path d=\"M19 3H5c-1.1 0-2 .9-2 2v14c0 1.1.9 2 2 2h14c1.1 0 2-.9 2-2V5c0-1.1-.9-2-2-2zM9 17H7v-7h2v7zm4 0h-2V7h2v10zm4 0h-2v-4h2v4z\"/>\n",
              "    </g>\n",
              "</svg>\n",
              "  </button>\n",
              "\n",
              "<style>\n",
              "  .colab-df-quickchart {\n",
              "      --bg-color: #E8F0FE;\n",
              "      --fill-color: #1967D2;\n",
              "      --hover-bg-color: #E2EBFA;\n",
              "      --hover-fill-color: #174EA6;\n",
              "      --disabled-fill-color: #AAA;\n",
              "      --disabled-bg-color: #DDD;\n",
              "  }\n",
              "\n",
              "  [theme=dark] .colab-df-quickchart {\n",
              "      --bg-color: #3B4455;\n",
              "      --fill-color: #D2E3FC;\n",
              "      --hover-bg-color: #434B5C;\n",
              "      --hover-fill-color: #FFFFFF;\n",
              "      --disabled-bg-color: #3B4455;\n",
              "      --disabled-fill-color: #666;\n",
              "  }\n",
              "\n",
              "  .colab-df-quickchart {\n",
              "    background-color: var(--bg-color);\n",
              "    border: none;\n",
              "    border-radius: 50%;\n",
              "    cursor: pointer;\n",
              "    display: none;\n",
              "    fill: var(--fill-color);\n",
              "    height: 32px;\n",
              "    padding: 0;\n",
              "    width: 32px;\n",
              "  }\n",
              "\n",
              "  .colab-df-quickchart:hover {\n",
              "    background-color: var(--hover-bg-color);\n",
              "    box-shadow: 0 1px 2px rgba(60, 64, 67, 0.3), 0 1px 3px 1px rgba(60, 64, 67, 0.15);\n",
              "    fill: var(--button-hover-fill-color);\n",
              "  }\n",
              "\n",
              "  .colab-df-quickchart-complete:disabled,\n",
              "  .colab-df-quickchart-complete:disabled:hover {\n",
              "    background-color: var(--disabled-bg-color);\n",
              "    fill: var(--disabled-fill-color);\n",
              "    box-shadow: none;\n",
              "  }\n",
              "\n",
              "  .colab-df-spinner {\n",
              "    border: 2px solid var(--fill-color);\n",
              "    border-color: transparent;\n",
              "    border-bottom-color: var(--fill-color);\n",
              "    animation:\n",
              "      spin 1s steps(1) infinite;\n",
              "  }\n",
              "\n",
              "  @keyframes spin {\n",
              "    0% {\n",
              "      border-color: transparent;\n",
              "      border-bottom-color: var(--fill-color);\n",
              "      border-left-color: var(--fill-color);\n",
              "    }\n",
              "    20% {\n",
              "      border-color: transparent;\n",
              "      border-left-color: var(--fill-color);\n",
              "      border-top-color: var(--fill-color);\n",
              "    }\n",
              "    30% {\n",
              "      border-color: transparent;\n",
              "      border-left-color: var(--fill-color);\n",
              "      border-top-color: var(--fill-color);\n",
              "      border-right-color: var(--fill-color);\n",
              "    }\n",
              "    40% {\n",
              "      border-color: transparent;\n",
              "      border-right-color: var(--fill-color);\n",
              "      border-top-color: var(--fill-color);\n",
              "    }\n",
              "    60% {\n",
              "      border-color: transparent;\n",
              "      border-right-color: var(--fill-color);\n",
              "    }\n",
              "    80% {\n",
              "      border-color: transparent;\n",
              "      border-right-color: var(--fill-color);\n",
              "      border-bottom-color: var(--fill-color);\n",
              "    }\n",
              "    90% {\n",
              "      border-color: transparent;\n",
              "      border-bottom-color: var(--fill-color);\n",
              "    }\n",
              "  }\n",
              "</style>\n",
              "\n",
              "  <script>\n",
              "    async function quickchart(key) {\n",
              "      const quickchartButtonEl =\n",
              "        document.querySelector('#' + key + ' button');\n",
              "      quickchartButtonEl.disabled = true;  // To prevent multiple clicks.\n",
              "      quickchartButtonEl.classList.add('colab-df-spinner');\n",
              "      try {\n",
              "        const charts = await google.colab.kernel.invokeFunction(\n",
              "            'suggestCharts', [key], {});\n",
              "      } catch (error) {\n",
              "        console.error('Error during call to suggestCharts:', error);\n",
              "      }\n",
              "      quickchartButtonEl.classList.remove('colab-df-spinner');\n",
              "      quickchartButtonEl.classList.add('colab-df-quickchart-complete');\n",
              "    }\n",
              "    (() => {\n",
              "      let quickchartButtonEl =\n",
              "        document.querySelector('#df-40d122b3-3be0-4d0f-9c64-24e2e20f2a31 button');\n",
              "      quickchartButtonEl.style.display =\n",
              "        google.colab.kernel.accessAllowed ? 'block' : 'none';\n",
              "    })();\n",
              "  </script>\n",
              "</div>\n",
              "    </div>\n",
              "  </div>\n"
            ]
          },
          "metadata": {},
          "execution_count": 29
        }
      ]
    },
    {
      "cell_type": "code",
      "source": [
        "y"
      ],
      "metadata": {
        "colab": {
          "base_uri": "https://localhost:8080/"
        },
        "id": "dTQTSPA9665j",
        "outputId": "5a57fdfd-9809-4dcf-f5e4-bd97803296fe"
      },
      "id": "dTQTSPA9665j",
      "execution_count": null,
      "outputs": [
        {
          "output_type": "execute_result",
          "data": {
            "text/plain": [
              "0      0\n",
              "1      0\n",
              "2      1\n",
              "3      2\n",
              "4      0\n",
              "      ..\n",
              "270    0\n",
              "271    0\n",
              "272    2\n",
              "273    0\n",
              "274    1\n",
              "Name: VictimCount, Length: 275, dtype: int64"
            ]
          },
          "metadata": {},
          "execution_count": 31
        }
      ]
    },
    {
      "cell_type": "code",
      "source": [
        "from sklearn.model_selection import train_test_split\n",
        "X_train, X_test, y_train, y_test = train_test_split(X, y, test_size=0.2, random_state=42)"
      ],
      "metadata": {
        "id": "rci13d_m68V3"
      },
      "id": "rci13d_m68V3",
      "execution_count": null,
      "outputs": []
    },
    {
      "cell_type": "code",
      "source": [
        "import torch\n",
        "X_train_tensor = torch.tensor(X_train.values, dtype=torch.float32)\n",
        "y_train_tensor = torch.tensor(y_train.values, dtype=torch.float32)\n",
        "X_test_tensor = torch.tensor(X_test.values, dtype=torch.float32)\n",
        "y_test_tensor = torch.tensor(y_test.values, dtype=torch.float32)"
      ],
      "metadata": {
        "id": "LA4gHKNE6_up"
      },
      "id": "LA4gHKNE6_up",
      "execution_count": null,
      "outputs": []
    },
    {
      "cell_type": "code",
      "source": [
        "from torch.utils.data import DataLoader, TensorDataset\n",
        "\n",
        "train_dataset = TensorDataset(X_train_tensor, y_train_tensor)\n",
        "test_dataset = TensorDataset(X_test_tensor, y_test_tensor)\n",
        "\n",
        "batch_size = 32\n",
        "\n",
        "train_loader = DataLoader(dataset=train_dataset, batch_size=batch_size, shuffle=True)\n",
        "test_loader = DataLoader(dataset=test_dataset, batch_size=batch_size, shuffle=False)\n"
      ],
      "metadata": {
        "id": "KAPyZXOH7Brc"
      },
      "id": "KAPyZXOH7Brc",
      "execution_count": null,
      "outputs": []
    },
    {
      "cell_type": "code",
      "source": [
        "for batch_x, batch_y in train_loader:\n",
        "    print(batch_x.shape, batch_y.shape)\n",
        "    break"
      ],
      "metadata": {
        "colab": {
          "base_uri": "https://localhost:8080/"
        },
        "id": "V_odHMXs7Fb-",
        "outputId": "4bb37a3e-bbba-4385-97dd-0316daba3724"
      },
      "id": "V_odHMXs7Fb-",
      "execution_count": null,
      "outputs": [
        {
          "output_type": "stream",
          "name": "stdout",
          "text": [
            "torch.Size([32, 6]) torch.Size([32])\n"
          ]
        }
      ]
    },
    {
      "cell_type": "markdown",
      "id": "1fb6f08c-5e70-4b14-b62c-4686d9f7aace",
      "metadata": {
        "id": "1fb6f08c-5e70-4b14-b62c-4686d9f7aace"
      },
      "source": [
        "## Task 3\n",
        "In this task you will try to predict number of crime victims as a **real number**. Therefore the machine learning problem is a **regression** problem.\n",
        "\n",
        "* Define the proper loss function for this task\n",
        "* what should the size of the predicted output be?\n",
        "* explain your choice of architecture, including how many layers you will be using\n",
        "* define an optimizer for training this model, choose a proper learning rate\n",
        "* write a training loop that obtains a batch out of the  training data and calculates the forward and backward passes over the neural network. Call the optimizer to update the weights of the neural network.\n",
        "* write a for loop that continues the training over a number of epochs. At the end of each epoch, calculate the ``MSE`` error on the test data and print it.\n",
        "* is your model training well? Adjust the learning rate, hidden size of the network, and try different activation functions and number of layers to achieve the best accuracy and report it."
      ]
    },
    {
      "cell_type": "markdown",
      "source": [
        "#Answer"
      ],
      "metadata": {
        "id": "ZMId9MZYh5hR"
      },
      "id": "ZMId9MZYh5hR"
    },
    {
      "cell_type": "markdown",
      "source": [
        "The predicted value will be a single scalar instance as the the output layer of the model has dimension of 1."
      ],
      "metadata": {
        "id": "PvWo6WdghoUv"
      },
      "id": "PvWo6WdghoUv"
    },
    {
      "cell_type": "markdown",
      "source": [
        "I'll be going forward with 3 fully connected layers, where first 2 layers having relu. Since, the problem I am trying to solve is a regression problem I have not added any activation function on the last layer to get raw output."
      ],
      "metadata": {
        "id": "qbaXSccNh7fO"
      },
      "id": "qbaXSccNh7fO"
    },
    {
      "cell_type": "markdown",
      "source": [
        "Adam is a widely used optimizer combining properties of RMSProp and AdaGrad optimizers.\n",
        "\n",
        "The learning rate is 0.1. What I have observed is that which such a small data high learning rate is a better choice. Starting from 0.001, the best MSE I received was at 0.1."
      ],
      "metadata": {
        "id": "wM6VjFvlgO9N"
      },
      "id": "wM6VjFvlgO9N"
    },
    {
      "cell_type": "code",
      "source": [
        "class RegressionModel(nn.Module):\n",
        "    def __init__(self, input_dim):\n",
        "        super(RegressionModel, self).__init__()\n",
        "        self.fc1 = nn.Linear(input_dim, 128)\n",
        "        self.fc2 = nn.Linear(128, 64)\n",
        "        self.fc3 = nn.Linear(64, 1)\n",
        "        self.relu = nn.ReLU()\n",
        "\n",
        "    def forward(self, x):\n",
        "        x = self.relu(self.fc1(x))\n",
        "        x = self.relu(self.fc2(x))\n",
        "        x = self.fc3(x)\n",
        "        return x"
      ],
      "metadata": {
        "id": "U7Xi2oJecGjM"
      },
      "id": "U7Xi2oJecGjM",
      "execution_count": 88,
      "outputs": []
    },
    {
      "cell_type": "code",
      "source": [
        "input_dim = X_train_tensor.shape[1]\n",
        "model = RegressionModel(input_dim)\n",
        "\n",
        "criterion = nn.MSELoss()\n",
        "optimizer = optim.Adam(model.parameters(), lr=0.1)\n",
        "\n",
        "num_epochs = 100\n",
        "for epoch in range(num_epochs):\n",
        "    model.train()\n",
        "    total_loss = 0.0\n",
        "\n",
        "    for batch_data, batch_labels in train_loader:\n",
        "        optimizer.zero_grad()\n",
        "        outputs = model(batch_data)\n",
        "        loss = criterion(outputs, batch_labels)\n",
        "        loss.backward()\n",
        "        optimizer.step()\n",
        "        total_loss += loss.item()\n",
        "\n",
        "    print(f\"Epoch {epoch+1}/{num_epochs}, Train Loss: {total_loss/len(train_loader)}\")\n",
        "    model.eval()\n",
        "    with torch.no_grad():\n",
        "        test_loss = 0.0\n",
        "        for batch_data, batch_labels in test_loader:\n",
        "            outputs = model(batch_data)\n",
        "            loss = criterion(outputs, batch_labels)\n",
        "            test_loss += loss.item()\n",
        "        print(f\"Test Loss: {test_loss/len(test_loader)}\")"
      ],
      "metadata": {
        "colab": {
          "base_uri": "https://localhost:8080/"
        },
        "id": "S1E0WrjFcQfL",
        "outputId": "3133636d-9c61-4979-ee5f-d80533c03499"
      },
      "id": "S1E0WrjFcQfL",
      "execution_count": 89,
      "outputs": [
        {
          "output_type": "stream",
          "name": "stderr",
          "text": [
            "/usr/local/lib/python3.10/dist-packages/torch/nn/modules/loss.py:535: UserWarning: Using a target size (torch.Size([32])) that is different to the input size (torch.Size([32, 1])). This will likely lead to incorrect results due to broadcasting. Please ensure they have the same size.\n",
            "  return F.mse_loss(input, target, reduction=self.reduction)\n",
            "/usr/local/lib/python3.10/dist-packages/torch/nn/modules/loss.py:535: UserWarning: Using a target size (torch.Size([28])) that is different to the input size (torch.Size([28, 1])). This will likely lead to incorrect results due to broadcasting. Please ensure they have the same size.\n",
            "  return F.mse_loss(input, target, reduction=self.reduction)\n",
            "/usr/local/lib/python3.10/dist-packages/torch/nn/modules/loss.py:535: UserWarning: Using a target size (torch.Size([23])) that is different to the input size (torch.Size([23, 1])). This will likely lead to incorrect results due to broadcasting. Please ensure they have the same size.\n",
            "  return F.mse_loss(input, target, reduction=self.reduction)\n"
          ]
        },
        {
          "output_type": "stream",
          "name": "stdout",
          "text": [
            "Epoch 1/100, Train Loss: 39226.499120371685\n",
            "Test Loss: 46.3722038269043\n",
            "Epoch 2/100, Train Loss: 12.083731872694832\n",
            "Test Loss: 2.3299143314361572\n",
            "Epoch 3/100, Train Loss: 1.6806905610220773\n",
            "Test Loss: 1.0377813577651978\n",
            "Epoch 4/100, Train Loss: 1.1121104444776262\n",
            "Test Loss: 0.990916520357132\n",
            "Epoch 5/100, Train Loss: 1.0209091220583235\n",
            "Test Loss: 0.9125141203403473\n",
            "Epoch 6/100, Train Loss: 0.9724211437361581\n",
            "Test Loss: 0.913015604019165\n",
            "Epoch 7/100, Train Loss: 0.9511924002851758\n",
            "Test Loss: 0.9127041101455688\n",
            "Epoch 8/100, Train Loss: 0.9684167504310608\n",
            "Test Loss: 0.9184569418430328\n",
            "Epoch 9/100, Train Loss: 0.9524972864559719\n",
            "Test Loss: 0.9216876327991486\n",
            "Epoch 10/100, Train Loss: 1.0017299566950117\n",
            "Test Loss: 0.920708566904068\n",
            "Epoch 11/100, Train Loss: 0.9814367549760001\n",
            "Test Loss: 0.91360804438591\n",
            "Epoch 12/100, Train Loss: 0.9533815043313163\n",
            "Test Loss: 0.9136474430561066\n",
            "Epoch 13/100, Train Loss: 0.9651540517807007\n",
            "Test Loss: 0.9135235846042633\n",
            "Epoch 14/100, Train Loss: 0.9639002467904773\n",
            "Test Loss: 0.9132364690303802\n",
            "Epoch 15/100, Train Loss: 0.9559393227100372\n",
            "Test Loss: 0.9158397316932678\n",
            "Epoch 16/100, Train Loss: 0.9674926655633109\n",
            "Test Loss: 0.9146749079227448\n",
            "Epoch 17/100, Train Loss: 0.9880063959530422\n",
            "Test Loss: 0.9193514287471771\n",
            "Epoch 18/100, Train Loss: 0.9737146837370736\n",
            "Test Loss: 0.9156712889671326\n",
            "Epoch 19/100, Train Loss: 0.9426210054329464\n",
            "Test Loss: 0.9193238019943237\n",
            "Epoch 20/100, Train Loss: 0.9846216014453343\n",
            "Test Loss: 0.9126428067684174\n",
            "Epoch 21/100, Train Loss: 0.9545626980917794\n",
            "Test Loss: 0.9191748797893524\n",
            "Epoch 22/100, Train Loss: 0.9705070342336383\n",
            "Test Loss: 0.9150837659835815\n",
            "Epoch 23/100, Train Loss: 0.9755017459392548\n",
            "Test Loss: 0.9126064479351044\n",
            "Epoch 24/100, Train Loss: 0.9519233448164803\n",
            "Test Loss: 0.9145830273628235\n",
            "Epoch 25/100, Train Loss: 0.9656624794006348\n",
            "Test Loss: 0.9128673076629639\n",
            "Epoch 26/100, Train Loss: 0.9668157952172416\n",
            "Test Loss: 0.9145775735378265\n",
            "Epoch 27/100, Train Loss: 0.9561687878199986\n",
            "Test Loss: 0.91733118891716\n",
            "Epoch 28/100, Train Loss: 0.9764592094080788\n",
            "Test Loss: 0.9135538637638092\n",
            "Epoch 29/100, Train Loss: 0.9567061875547681\n",
            "Test Loss: 0.9155626595020294\n",
            "Epoch 30/100, Train Loss: 0.9498657669339862\n",
            "Test Loss: 0.9153764247894287\n",
            "Epoch 31/100, Train Loss: 1.0367139833314079\n",
            "Test Loss: 0.9191785156726837\n",
            "Epoch 32/100, Train Loss: 0.9525420410292489\n",
            "Test Loss: 0.9345990717411041\n",
            "Epoch 33/100, Train Loss: 0.9620480111667088\n",
            "Test Loss: 0.9169372022151947\n",
            "Epoch 34/100, Train Loss: 0.9846284730093819\n",
            "Test Loss: 0.9206102192401886\n",
            "Epoch 35/100, Train Loss: 0.996231734752655\n",
            "Test Loss: 0.9178100526332855\n",
            "Epoch 36/100, Train Loss: 0.9643143841198513\n",
            "Test Loss: 0.9246538579463959\n",
            "Epoch 37/100, Train Loss: 0.9640933615820748\n",
            "Test Loss: 0.9178681671619415\n",
            "Epoch 38/100, Train Loss: 0.9602169011320386\n",
            "Test Loss: 0.9137485325336456\n",
            "Epoch 39/100, Train Loss: 1.0274307557514735\n",
            "Test Loss: 0.9412516355514526\n",
            "Epoch 40/100, Train Loss: 0.9977920481136867\n",
            "Test Loss: 0.933628499507904\n",
            "Epoch 41/100, Train Loss: 0.9781862241881234\n",
            "Test Loss: 0.9211979508399963\n",
            "Epoch 42/100, Train Loss: 1.0199466517993383\n",
            "Test Loss: 0.9204637110233307\n",
            "Epoch 43/100, Train Loss: 1.0131586619785853\n",
            "Test Loss: 0.9273155331611633\n",
            "Epoch 44/100, Train Loss: 0.976799726486206\n",
            "Test Loss: 0.9428917765617371\n",
            "Epoch 45/100, Train Loss: 0.9643419257232121\n",
            "Test Loss: 0.9174237847328186\n",
            "Epoch 46/100, Train Loss: 0.9672573293958392\n",
            "Test Loss: 0.9129190444946289\n",
            "Epoch 47/100, Train Loss: 0.981515279838017\n",
            "Test Loss: 0.9136256277561188\n",
            "Epoch 48/100, Train Loss: 0.9521019118172782\n",
            "Test Loss: 0.9171792268753052\n",
            "Epoch 49/100, Train Loss: 0.9719166287354061\n",
            "Test Loss: 0.91257044672966\n",
            "Epoch 50/100, Train Loss: 0.9839229498590741\n",
            "Test Loss: 0.9156628847122192\n",
            "Epoch 51/100, Train Loss: 0.9727750420570374\n",
            "Test Loss: 0.9147073328495026\n",
            "Epoch 52/100, Train Loss: 0.9536881702286857\n",
            "Test Loss: 0.9140439033508301\n",
            "Epoch 53/100, Train Loss: 0.9583207028252738\n",
            "Test Loss: 0.9126251041889191\n",
            "Epoch 54/100, Train Loss: 0.9585920827729362\n",
            "Test Loss: 0.9128715395927429\n",
            "Epoch 55/100, Train Loss: 0.9517811664513179\n",
            "Test Loss: 0.9126708805561066\n",
            "Epoch 56/100, Train Loss: 0.9575876125267574\n",
            "Test Loss: 0.9124527275562286\n",
            "Epoch 57/100, Train Loss: 0.9539019976343427\n",
            "Test Loss: 0.9135534167289734\n",
            "Epoch 58/100, Train Loss: 0.9548129779951913\n",
            "Test Loss: 0.9124875068664551\n",
            "Epoch 59/100, Train Loss: 0.968042390687125\n",
            "Test Loss: 0.9129791259765625\n",
            "Epoch 60/100, Train Loss: 0.9529324812548501\n",
            "Test Loss: 0.915294885635376\n",
            "Epoch 61/100, Train Loss: 0.9792842013495309\n",
            "Test Loss: 0.91245037317276\n",
            "Epoch 62/100, Train Loss: 0.9524658152035305\n",
            "Test Loss: 0.9193671941757202\n",
            "Epoch 63/100, Train Loss: 0.9579208706106458\n",
            "Test Loss: 0.9136344492435455\n",
            "Epoch 64/100, Train Loss: 0.9631345186914716\n",
            "Test Loss: 0.9129539430141449\n",
            "Epoch 65/100, Train Loss: 0.9667704147951943\n",
            "Test Loss: 0.9167384803295135\n",
            "Epoch 66/100, Train Loss: 0.9774120620318821\n",
            "Test Loss: 0.9142707586288452\n",
            "Epoch 67/100, Train Loss: 1.0093943221228463\n",
            "Test Loss: 0.931196391582489\n",
            "Epoch 68/100, Train Loss: 0.9585801192692348\n",
            "Test Loss: 0.9202136099338531\n",
            "Epoch 69/100, Train Loss: 0.9736107587814331\n",
            "Test Loss: 0.9124749600887299\n",
            "Epoch 70/100, Train Loss: 0.9672416320868901\n",
            "Test Loss: 0.9124758243560791\n",
            "Epoch 71/100, Train Loss: 0.9900210201740265\n",
            "Test Loss: 0.9196366369724274\n",
            "Epoch 72/100, Train Loss: 0.9742171168327332\n",
            "Test Loss: 0.9204481244087219\n",
            "Epoch 73/100, Train Loss: 0.9664655881268638\n",
            "Test Loss: 0.9185167551040649\n",
            "Epoch 74/100, Train Loss: 0.987154313496181\n",
            "Test Loss: 0.9126332104206085\n",
            "Epoch 75/100, Train Loss: 0.9941512218543461\n",
            "Test Loss: 0.924808531999588\n",
            "Epoch 76/100, Train Loss: 0.966465141092028\n",
            "Test Loss: 0.9260013401508331\n",
            "Epoch 77/100, Train Loss: 0.956286336694445\n",
            "Test Loss: 0.9129192233085632\n",
            "Epoch 78/100, Train Loss: 0.9606076989855085\n",
            "Test Loss: 0.915976881980896\n",
            "Epoch 79/100, Train Loss: 0.9830058131899152\n",
            "Test Loss: 0.9126720428466797\n",
            "Epoch 80/100, Train Loss: 0.9722775987216404\n",
            "Test Loss: 0.914542019367218\n",
            "Epoch 81/100, Train Loss: 0.9607026278972626\n",
            "Test Loss: 0.9185716509819031\n",
            "Epoch 82/100, Train Loss: 0.984628541128976\n",
            "Test Loss: 0.9127334654331207\n",
            "Epoch 83/100, Train Loss: 0.9584174752235413\n",
            "Test Loss: 0.9366331994533539\n",
            "Epoch 84/100, Train Loss: 0.9938028412205833\n",
            "Test Loss: 0.9213030636310577\n",
            "Epoch 85/100, Train Loss: 0.9693204164505005\n",
            "Test Loss: 0.9129459261894226\n",
            "Epoch 86/100, Train Loss: 0.9819273863519941\n",
            "Test Loss: 0.9135167002677917\n",
            "Epoch 87/100, Train Loss: 0.9574641925948006\n",
            "Test Loss: 0.91253262758255\n",
            "Epoch 88/100, Train Loss: 0.9554640225001744\n",
            "Test Loss: 0.912453830242157\n",
            "Epoch 89/100, Train Loss: 0.9555041491985321\n",
            "Test Loss: 0.912471354007721\n",
            "Epoch 90/100, Train Loss: 0.9513532945087978\n",
            "Test Loss: 0.9178902804851532\n",
            "Epoch 91/100, Train Loss: 0.9644331591469901\n",
            "Test Loss: 0.9126355051994324\n",
            "Epoch 92/100, Train Loss: 0.9617742044585091\n",
            "Test Loss: 0.9125620722770691\n",
            "Epoch 93/100, Train Loss: 0.9716701422418866\n",
            "Test Loss: 0.9126017987728119\n",
            "Epoch 94/100, Train Loss: 0.9588533214160374\n",
            "Test Loss: 0.9143828749656677\n",
            "Epoch 95/100, Train Loss: 0.981529346534184\n",
            "Test Loss: 0.9179911315441132\n",
            "Epoch 96/100, Train Loss: 0.9679795844214303\n",
            "Test Loss: 0.9290084838867188\n",
            "Epoch 97/100, Train Loss: 0.990777245589665\n",
            "Test Loss: 0.9129451513290405\n",
            "Epoch 98/100, Train Loss: 0.9867161597524371\n",
            "Test Loss: 0.9217194616794586\n",
            "Epoch 99/100, Train Loss: 1.0028755749974931\n",
            "Test Loss: 0.9369586110115051\n",
            "Epoch 100/100, Train Loss: 0.974249256508691\n",
            "Test Loss: 0.9229509234428406\n"
          ]
        }
      ]
    },
    {
      "cell_type": "markdown",
      "source": [
        "The best MSE obtained was **0.913439**"
      ],
      "metadata": {
        "id": "NFj6Nj-h1TbS"
      },
      "id": "NFj6Nj-h1TbS"
    },
    {
      "cell_type": "markdown",
      "id": "86e3fc70-c6ce-4589-9930-128951290e8d",
      "metadata": {
        "id": "86e3fc70-c6ce-4589-9930-128951290e8d"
      },
      "source": [
        "## Task 4\n",
        "\n",
        "In this task, you will try to predict the number of crime victims as a **class number**. Therefore the machine learning problem is a **classification** problem.\n",
        "\n",
        "* Repeat all the steps in task 3. Specifically, pay attention to the differences with regression.\n",
        "* How would you find the number of classes on the output data?\n",
        "* How is the architecture different?\n",
        "* How is the loss function different?\n",
        "* Calculate the Accuracy for test data as the number of correct classified outputs divided by the total number of test data in each epoch. Report it at the end of each epoch\n",
        "* Try a few variations of learning rate, hidden dimensions, layers, etc. What is the best accuracy that you can get?"
      ]
    },
    {
      "cell_type": "markdown",
      "source": [
        "#Answer"
      ],
      "metadata": {
        "id": "ZUGAq2W23z0o"
      },
      "id": "ZUGAq2W23z0o"
    },
    {
      "cell_type": "markdown",
      "source": [
        "num_classes = df['VictimCount'].nunique() is the code which determines the number of classes on the output data"
      ],
      "metadata": {
        "id": "mlIadt761tIE"
      },
      "id": "mlIadt761tIE"
    },
    {
      "cell_type": "markdown",
      "source": [
        "The major difference in architecture is the activation function in the output later, to get a probablity across different classes. To do this I went forward with softmax function."
      ],
      "metadata": {
        "id": "-VHmiyOO12yQ"
      },
      "id": "-VHmiyOO12yQ"
    },
    {
      "cell_type": "markdown",
      "source": [
        "Here, the used loss function is Cross Entropy. While dealing with multi class problem Cross Entropy is the more appropriate function."
      ],
      "metadata": {
        "id": "poqAd1_H2Tr2"
      },
      "id": "poqAd1_H2Tr2"
    },
    {
      "cell_type": "code",
      "source": [
        "class ClassificationModel(nn.Module):\n",
        "    def __init__(self, input_dim, num_classes):\n",
        "        super(ClassificationModel, self).__init__()\n",
        "        self.fc1 = nn.Linear(input_dim, 128)\n",
        "        self.fc2 = nn.Linear(128, 64)\n",
        "        self.fc3 = nn.Linear(64, num_classes)\n",
        "        self.relu = nn.ReLU()\n",
        "        self.softmax = nn.Softmax(dim=1)\n",
        "\n",
        "    def forward(self, x):\n",
        "        x = self.relu(self.fc1(x))\n",
        "        x = self.relu(self.fc2(x))\n",
        "        x = self.softmax(self.fc3(x))\n",
        "        return x"
      ],
      "metadata": {
        "id": "rfh-AzC2dFqB"
      },
      "id": "rfh-AzC2dFqB",
      "execution_count": 78,
      "outputs": []
    },
    {
      "cell_type": "code",
      "source": [
        "def compute_accuracy(outputs, labels):\n",
        "    _, predicted = torch.max(outputs, 1)\n",
        "    total = labels.size(0)\n",
        "    correct = (predicted == labels).sum().item()\n",
        "    return correct / total"
      ],
      "metadata": {
        "id": "eeOom9dTdWtq"
      },
      "id": "eeOom9dTdWtq",
      "execution_count": 79,
      "outputs": []
    },
    {
      "cell_type": "code",
      "source": [
        "num_classes = df['VictimCount'].nunique()\n",
        "model = ClassificationModel(input_dim, num_classes)\n",
        "\n",
        "criterion = nn.CrossEntropyLoss()\n",
        "optimizer = optim.Adam(model.parameters(), lr=0.1)"
      ],
      "metadata": {
        "id": "uZx2Dsa6dM5P"
      },
      "id": "uZx2Dsa6dM5P",
      "execution_count": 80,
      "outputs": []
    },
    {
      "cell_type": "code",
      "source": [
        "num_epochs = 100\n",
        "for epoch in range(num_epochs):\n",
        "    model.train()\n",
        "    total_loss = 0.0\n",
        "    train_accuracy = 0.0\n",
        "\n",
        "    for batch_data, batch_labels in train_loader:\n",
        "        optimizer.zero_grad()\n",
        "        outputs = model(batch_data)\n",
        "        loss = criterion(outputs, batch_labels.long())\n",
        "        loss.backward()\n",
        "        optimizer.step()\n",
        "        total_loss += loss.item()\n",
        "        train_accuracy += compute_accuracy(outputs, batch_labels)\n",
        "\n",
        "    print(f\"Epoch {epoch+1}/{num_epochs}, Loss: {total_loss/len(train_loader):.2f}, Train Accuracy: {(train_accuracy/len(train_loader)) * 100:.2f}%\")\n",
        "    model.eval()\n",
        "    val_accuracy = 0.0\n",
        "    with torch.no_grad():\n",
        "        for batch_data, batch_labels in test_loader:\n",
        "            outputs = model(batch_data)\n",
        "            val_accuracy += compute_accuracy(outputs, batch_labels)\n",
        "        print(f\"Validation Accuracy: {val_accuracy/len(test_loader) * 100:.2f}%\")"
      ],
      "metadata": {
        "colab": {
          "base_uri": "https://localhost:8080/"
        },
        "id": "HsVKR8p-dUqh",
        "outputId": "1596d9bc-b4d1-4456-9a2e-da33ae99bcf8"
      },
      "id": "HsVKR8p-dUqh",
      "execution_count": 82,
      "outputs": [
        {
          "output_type": "stream",
          "name": "stdout",
          "text": [
            "Epoch 1/100, Loss: 1.65, Train Accuracy: 51.21%\n",
            "Validation Accuracy: 52.99%\n",
            "Epoch 2/100, Loss: 1.66, Train Accuracy: 50.83%\n",
            "Validation Accuracy: 52.99%\n",
            "Epoch 3/100, Loss: 1.66, Train Accuracy: 50.96%\n",
            "Validation Accuracy: 52.99%\n",
            "Epoch 4/100, Loss: 1.66, Train Accuracy: 50.89%\n",
            "Validation Accuracy: 52.99%\n",
            "Epoch 5/100, Loss: 1.66, Train Accuracy: 50.89%\n",
            "Validation Accuracy: 52.99%\n",
            "Epoch 6/100, Loss: 1.65, Train Accuracy: 51.15%\n",
            "Validation Accuracy: 52.99%\n",
            "Epoch 7/100, Loss: 1.66, Train Accuracy: 51.02%\n",
            "Validation Accuracy: 52.99%\n",
            "Epoch 8/100, Loss: 1.66, Train Accuracy: 51.02%\n",
            "Validation Accuracy: 52.99%\n",
            "Epoch 9/100, Loss: 1.66, Train Accuracy: 50.70%\n",
            "Validation Accuracy: 52.99%\n",
            "Epoch 10/100, Loss: 1.66, Train Accuracy: 50.77%\n",
            "Validation Accuracy: 52.99%\n",
            "Epoch 11/100, Loss: 1.66, Train Accuracy: 50.89%\n",
            "Validation Accuracy: 52.99%\n",
            "Epoch 12/100, Loss: 1.66, Train Accuracy: 50.96%\n",
            "Validation Accuracy: 52.99%\n",
            "Epoch 13/100, Loss: 1.65, Train Accuracy: 51.08%\n",
            "Validation Accuracy: 52.99%\n",
            "Epoch 14/100, Loss: 1.66, Train Accuracy: 50.89%\n",
            "Validation Accuracy: 52.99%\n",
            "Epoch 15/100, Loss: 1.66, Train Accuracy: 50.96%\n",
            "Validation Accuracy: 52.99%\n",
            "Epoch 16/100, Loss: 1.66, Train Accuracy: 50.77%\n",
            "Validation Accuracy: 52.99%\n",
            "Epoch 17/100, Loss: 1.66, Train Accuracy: 50.77%\n",
            "Validation Accuracy: 52.99%\n",
            "Epoch 18/100, Loss: 1.66, Train Accuracy: 50.96%\n",
            "Validation Accuracy: 52.99%\n",
            "Epoch 19/100, Loss: 1.65, Train Accuracy: 51.08%\n",
            "Validation Accuracy: 52.99%\n",
            "Epoch 20/100, Loss: 1.66, Train Accuracy: 50.57%\n",
            "Validation Accuracy: 52.99%\n",
            "Epoch 21/100, Loss: 1.66, Train Accuracy: 50.83%\n",
            "Validation Accuracy: 52.99%\n",
            "Epoch 22/100, Loss: 1.66, Train Accuracy: 50.77%\n",
            "Validation Accuracy: 52.99%\n",
            "Epoch 23/100, Loss: 1.66, Train Accuracy: 50.96%\n",
            "Validation Accuracy: 52.99%\n",
            "Epoch 24/100, Loss: 1.66, Train Accuracy: 51.02%\n",
            "Validation Accuracy: 52.99%\n",
            "Epoch 25/100, Loss: 1.66, Train Accuracy: 50.96%\n",
            "Validation Accuracy: 52.99%\n",
            "Epoch 26/100, Loss: 1.65, Train Accuracy: 51.15%\n",
            "Validation Accuracy: 52.99%\n",
            "Epoch 27/100, Loss: 1.66, Train Accuracy: 50.77%\n",
            "Validation Accuracy: 52.99%\n",
            "Epoch 28/100, Loss: 1.66, Train Accuracy: 50.89%\n",
            "Validation Accuracy: 52.99%\n",
            "Epoch 29/100, Loss: 1.66, Train Accuracy: 50.96%\n",
            "Validation Accuracy: 52.99%\n",
            "Epoch 30/100, Loss: 1.65, Train Accuracy: 51.08%\n",
            "Validation Accuracy: 52.99%\n",
            "Epoch 31/100, Loss: 1.66, Train Accuracy: 50.77%\n",
            "Validation Accuracy: 52.99%\n",
            "Epoch 32/100, Loss: 1.65, Train Accuracy: 51.21%\n",
            "Validation Accuracy: 52.99%\n",
            "Epoch 33/100, Loss: 1.66, Train Accuracy: 51.02%\n",
            "Validation Accuracy: 52.99%\n",
            "Epoch 34/100, Loss: 1.65, Train Accuracy: 51.21%\n",
            "Validation Accuracy: 52.99%\n",
            "Epoch 35/100, Loss: 1.66, Train Accuracy: 50.96%\n",
            "Validation Accuracy: 52.99%\n",
            "Epoch 36/100, Loss: 1.66, Train Accuracy: 50.45%\n",
            "Validation Accuracy: 52.99%\n",
            "Epoch 37/100, Loss: 1.65, Train Accuracy: 51.08%\n",
            "Validation Accuracy: 52.99%\n",
            "Epoch 38/100, Loss: 1.66, Train Accuracy: 50.64%\n",
            "Validation Accuracy: 52.99%\n",
            "Epoch 39/100, Loss: 1.66, Train Accuracy: 50.77%\n",
            "Validation Accuracy: 52.99%\n",
            "Epoch 40/100, Loss: 1.65, Train Accuracy: 51.15%\n",
            "Validation Accuracy: 52.99%\n",
            "Epoch 41/100, Loss: 1.66, Train Accuracy: 50.70%\n",
            "Validation Accuracy: 52.99%\n",
            "Epoch 42/100, Loss: 1.66, Train Accuracy: 50.83%\n",
            "Validation Accuracy: 52.99%\n",
            "Epoch 43/100, Loss: 1.66, Train Accuracy: 50.83%\n",
            "Validation Accuracy: 52.99%\n",
            "Epoch 44/100, Loss: 1.66, Train Accuracy: 50.89%\n",
            "Validation Accuracy: 52.99%\n",
            "Epoch 45/100, Loss: 1.66, Train Accuracy: 51.02%\n",
            "Validation Accuracy: 52.99%\n",
            "Epoch 46/100, Loss: 1.66, Train Accuracy: 50.77%\n",
            "Validation Accuracy: 52.99%\n",
            "Epoch 47/100, Loss: 1.66, Train Accuracy: 50.83%\n",
            "Validation Accuracy: 52.99%\n",
            "Epoch 48/100, Loss: 1.66, Train Accuracy: 50.77%\n",
            "Validation Accuracy: 52.99%\n",
            "Epoch 49/100, Loss: 1.66, Train Accuracy: 50.57%\n",
            "Validation Accuracy: 52.99%\n",
            "Epoch 50/100, Loss: 1.66, Train Accuracy: 51.02%\n",
            "Validation Accuracy: 52.99%\n",
            "Epoch 51/100, Loss: 1.66, Train Accuracy: 50.96%\n",
            "Validation Accuracy: 52.99%\n",
            "Epoch 52/100, Loss: 1.65, Train Accuracy: 51.15%\n",
            "Validation Accuracy: 52.99%\n",
            "Epoch 53/100, Loss: 1.66, Train Accuracy: 50.64%\n",
            "Validation Accuracy: 52.99%\n",
            "Epoch 54/100, Loss: 1.66, Train Accuracy: 50.89%\n",
            "Validation Accuracy: 52.99%\n",
            "Epoch 55/100, Loss: 1.66, Train Accuracy: 50.96%\n",
            "Validation Accuracy: 52.99%\n",
            "Epoch 56/100, Loss: 1.66, Train Accuracy: 50.96%\n",
            "Validation Accuracy: 52.99%\n",
            "Epoch 57/100, Loss: 1.65, Train Accuracy: 51.15%\n",
            "Validation Accuracy: 52.99%\n",
            "Epoch 58/100, Loss: 1.66, Train Accuracy: 50.77%\n",
            "Validation Accuracy: 52.99%\n",
            "Epoch 59/100, Loss: 1.66, Train Accuracy: 50.77%\n",
            "Validation Accuracy: 52.99%\n",
            "Epoch 60/100, Loss: 1.65, Train Accuracy: 51.15%\n",
            "Validation Accuracy: 52.99%\n",
            "Epoch 61/100, Loss: 1.66, Train Accuracy: 50.96%\n",
            "Validation Accuracy: 52.99%\n",
            "Epoch 62/100, Loss: 1.66, Train Accuracy: 50.83%\n",
            "Validation Accuracy: 52.99%\n",
            "Epoch 63/100, Loss: 1.66, Train Accuracy: 50.83%\n",
            "Validation Accuracy: 52.99%\n",
            "Epoch 64/100, Loss: 1.65, Train Accuracy: 51.15%\n",
            "Validation Accuracy: 52.99%\n",
            "Epoch 65/100, Loss: 1.65, Train Accuracy: 51.21%\n",
            "Validation Accuracy: 52.99%\n",
            "Epoch 66/100, Loss: 1.66, Train Accuracy: 50.89%\n",
            "Validation Accuracy: 52.99%\n",
            "Epoch 67/100, Loss: 1.65, Train Accuracy: 51.28%\n",
            "Validation Accuracy: 52.99%\n",
            "Epoch 68/100, Loss: 1.66, Train Accuracy: 50.96%\n",
            "Validation Accuracy: 52.99%\n",
            "Epoch 69/100, Loss: 1.66, Train Accuracy: 50.77%\n",
            "Validation Accuracy: 52.99%\n",
            "Epoch 70/100, Loss: 1.66, Train Accuracy: 50.96%\n",
            "Validation Accuracy: 52.99%\n",
            "Epoch 71/100, Loss: 1.66, Train Accuracy: 50.89%\n",
            "Validation Accuracy: 52.99%\n",
            "Epoch 72/100, Loss: 1.66, Train Accuracy: 50.83%\n",
            "Validation Accuracy: 52.99%\n",
            "Epoch 73/100, Loss: 1.65, Train Accuracy: 51.08%\n",
            "Validation Accuracy: 52.99%\n",
            "Epoch 74/100, Loss: 1.66, Train Accuracy: 50.83%\n",
            "Validation Accuracy: 52.99%\n",
            "Epoch 75/100, Loss: 1.66, Train Accuracy: 50.70%\n",
            "Validation Accuracy: 52.99%\n",
            "Epoch 76/100, Loss: 1.65, Train Accuracy: 51.21%\n",
            "Validation Accuracy: 52.99%\n",
            "Epoch 77/100, Loss: 1.66, Train Accuracy: 50.89%\n",
            "Validation Accuracy: 52.99%\n",
            "Epoch 78/100, Loss: 1.66, Train Accuracy: 50.96%\n",
            "Validation Accuracy: 52.99%\n",
            "Epoch 79/100, Loss: 1.65, Train Accuracy: 51.15%\n",
            "Validation Accuracy: 52.99%\n",
            "Epoch 80/100, Loss: 1.66, Train Accuracy: 50.83%\n",
            "Validation Accuracy: 52.99%\n",
            "Epoch 81/100, Loss: 1.66, Train Accuracy: 50.83%\n",
            "Validation Accuracy: 52.99%\n",
            "Epoch 82/100, Loss: 1.65, Train Accuracy: 51.08%\n",
            "Validation Accuracy: 52.99%\n",
            "Epoch 83/100, Loss: 1.66, Train Accuracy: 50.96%\n",
            "Validation Accuracy: 52.99%\n",
            "Epoch 84/100, Loss: 1.66, Train Accuracy: 50.83%\n",
            "Validation Accuracy: 52.99%\n",
            "Epoch 85/100, Loss: 1.66, Train Accuracy: 50.83%\n",
            "Validation Accuracy: 52.99%\n",
            "Epoch 86/100, Loss: 1.66, Train Accuracy: 50.64%\n",
            "Validation Accuracy: 52.99%\n",
            "Epoch 87/100, Loss: 1.66, Train Accuracy: 50.83%\n",
            "Validation Accuracy: 52.99%\n",
            "Epoch 88/100, Loss: 1.66, Train Accuracy: 50.96%\n",
            "Validation Accuracy: 52.99%\n",
            "Epoch 89/100, Loss: 1.66, Train Accuracy: 51.02%\n",
            "Validation Accuracy: 52.99%\n",
            "Epoch 90/100, Loss: 1.66, Train Accuracy: 50.96%\n",
            "Validation Accuracy: 52.99%\n",
            "Epoch 91/100, Loss: 1.66, Train Accuracy: 50.83%\n",
            "Validation Accuracy: 52.99%\n",
            "Epoch 92/100, Loss: 1.66, Train Accuracy: 50.89%\n",
            "Validation Accuracy: 52.99%\n",
            "Epoch 93/100, Loss: 1.66, Train Accuracy: 50.96%\n",
            "Validation Accuracy: 52.99%\n",
            "Epoch 94/100, Loss: 1.66, Train Accuracy: 50.83%\n",
            "Validation Accuracy: 52.99%\n",
            "Epoch 95/100, Loss: 1.66, Train Accuracy: 50.77%\n",
            "Validation Accuracy: 52.99%\n",
            "Epoch 96/100, Loss: 1.66, Train Accuracy: 50.96%\n",
            "Validation Accuracy: 52.99%\n",
            "Epoch 97/100, Loss: 1.66, Train Accuracy: 50.96%\n",
            "Validation Accuracy: 52.99%\n",
            "Epoch 98/100, Loss: 1.66, Train Accuracy: 50.89%\n",
            "Validation Accuracy: 52.99%\n",
            "Epoch 99/100, Loss: 1.66, Train Accuracy: 50.83%\n",
            "Validation Accuracy: 52.99%\n",
            "Epoch 100/100, Loss: 1.66, Train Accuracy: 50.70%\n",
            "Validation Accuracy: 52.99%\n"
          ]
        }
      ]
    },
    {
      "cell_type": "markdown",
      "source": [
        "The final accuracy is **52.99%**"
      ],
      "metadata": {
        "id": "1F-Kq_dw2yzL"
      },
      "id": "1F-Kq_dw2yzL"
    },
    {
      "cell_type": "markdown",
      "id": "84d2a304-6197-4cd9-b31e-745f7862f213",
      "metadata": {
        "id": "84d2a304-6197-4cd9-b31e-745f7862f213"
      },
      "source": [
        "## Task 5"
      ]
    },
    {
      "cell_type": "markdown",
      "id": "d6e4ef16-d828-45e5-bd58-1c49fcfecf52",
      "metadata": {
        "id": "d6e4ef16-d828-45e5-bd58-1c49fcfecf52"
      },
      "source": [
        "### Reflect on your results\n",
        "\n",
        "* Write a paragraph about your experience with tasks 3 and 4. How do you compare the results? Which one worked better? Why?\n",
        "* Write a piece of code that finds an example of a  miss-classification. Calculate the probabilities for the output classes and plot them in a bar chart. Also, indicate what is the correct class label."
      ]
    },
    {
      "cell_type": "markdown",
      "source": [
        "#Answer"
      ],
      "metadata": {
        "id": "5um9iN8z3une"
      },
      "id": "5um9iN8z3une"
    },
    {
      "cell_type": "markdown",
      "source": [
        "At task 3 with the goal of solving a regression problem, it was observed that the final layer had no activation function while classification problem had softmax (multi class sigmoidal) function to get a probablity of the class to be predicted.\n",
        "\n",
        "The loss function for regression was Mean Squared Error (MSE), suitable for predicting continuous values. In contrast, for classification, we employed the CrossEntropyLoss, which penalizes the model based on the difference between the predicted probability distribution and the true class labels. In terms of comparison, it's essential to understand that these tasks address different types of problems: regression predicts a continuous value, while classification assigns inputs to specific categories.\n",
        "\n",
        "However, generally classification provides much clearer metric for performance."
      ],
      "metadata": {
        "id": "0FwYHiWf3_B1"
      },
      "id": "0FwYHiWf3_B1"
    },
    {
      "cell_type": "code",
      "source": [
        "def find_misclassification(model, loader):\n",
        "    model.eval()\n",
        "    with torch.no_grad():\n",
        "        for data, labels in loader:\n",
        "            outputs = model(data)\n",
        "            _, predicted = torch.max(outputs, 1)\n",
        "            for i, (pred, true) in enumerate(zip(predicted, labels)):\n",
        "                if pred != true:\n",
        "                    return data[i], outputs[i], true\n",
        "    return None, None, None\n",
        "\n",
        "data_sample, output_probs, true_label = find_misclassification(model, test_loader)\n",
        "\n",
        "if data_sample is not None:\n",
        "    classes = list(range(len(output_probs)))\n",
        "    plt.bar(classes, output_probs.cpu().numpy())\n",
        "    plt.xlabel(\"Class\")\n",
        "    plt.ylabel(\"Probability\")\n",
        "    plt.title(f\"Predicted Probabilities (True Class: {true_label.item()})\")\n",
        "    plt.show()\n",
        "else:\n",
        "    print(\"No misclassification found in the provided test_loader.\")"
      ],
      "metadata": {
        "colab": {
          "base_uri": "https://localhost:8080/",
          "height": 472
        },
        "id": "CLg8Wfq93fNQ",
        "outputId": "5ba3f4d7-a46d-4d5a-c170-46bdd05b0f4b"
      },
      "id": "CLg8Wfq93fNQ",
      "execution_count": 84,
      "outputs": [
        {
          "output_type": "display_data",
          "data": {
            "text/plain": [
              "<Figure size 640x480 with 1 Axes>"
            ],
            "image/png": "[encoded data removed]"
          },
          "metadata": {}
        }
      ]
    },
    {
      "cell_type": "markdown",
      "id": "5b000b0b-fa37-4f8d-8ec7-0a1e6e749424",
      "metadata": {
        "id": "5b000b0b-fa37-4f8d-8ec7-0a1e6e749424"
      },
      "source": [
        "## Task 6: Exploring the patterns in raw data\n",
        "\n",
        "* Plot the crime incidents as a `scatter` plot using the corrdinates. Use the color property of each datapoint to indicate the day of the week. Is there a pattern in the plot?\n",
        "* Now make a new scatter plot and use the color property of each datapoint to indicate the number of persons involved in the incident. Is there a pattern here?\n",
        "* use numpy (or pandas if you like) to sort the number of crimes reported by the day of the week. What days are most frequent?\n"
      ]
    },
    {
      "cell_type": "code",
      "execution_count": 97,
      "id": "5b396aaf-5d1a-49cd-ae1d-b63af7e561f5",
      "metadata": {
        "id": "5b396aaf-5d1a-49cd-ae1d-b63af7e561f5",
        "colab": {
          "base_uri": "https://localhost:8080/",
          "height": 872
        },
        "outputId": "7c636fea-2182-4515-9a92-6d597b551d06"
      },
      "outputs": [
        {
          "output_type": "display_data",
          "data": {
            "text/plain": [
              "<Figure size 1200x1000 with 1 Axes>"
            ],
            "image/png": "[encoded data removed]"
          },
          "metadata": {}
        }
      ],
      "source": [
        "import matplotlib.pyplot as plt\n",
        "import datetime\n",
        "\n",
        "plt.figure(figsize=(12, 10))\n",
        "for day in df['DayOfWeek'].unique():\n",
        "    subset = df[df['DayOfWeek'] == day]\n",
        "    plt.scatter(subset['X'], subset['Y'], label=day, alpha=0.6)\n",
        "\n",
        "plt.legend(title=\"Day of the Week\")\n",
        "plt.title('Crime Incidents by Day of the Week')\n",
        "plt.xlabel('Longitude')\n",
        "plt.ylabel('Latitude')\n",
        "plt.show()"
      ]
    },
    {
      "cell_type": "code",
      "source": [
        "plt.figure(figsize=(12, 10))\n",
        "scatter = plt.scatter(df['X'], df['Y'], c=df['VictimCount'], cmap='viridis', alpha=0.6)\n",
        "plt.colorbar(scatter, label='Number of Persons Involved')\n",
        "plt.title('Crime Incidents by Number of Persons Involved')\n",
        "plt.xlabel('Longitude')\n",
        "plt.ylabel('Latitude')\n",
        "plt.show()"
      ],
      "metadata": {
        "colab": {
          "base_uri": "https://localhost:8080/",
          "height": 872
        },
        "id": "y87lZY0x7cwY",
        "outputId": "57106aac-5a54-4032-8ef8-40211ba4b948"
      },
      "id": "y87lZY0x7cwY",
      "execution_count": 98,
      "outputs": [
        {
          "output_type": "display_data",
          "data": {
            "text/plain": [
              "<Figure size 1200x1000 with 2 Axes>"
            ],
            "image/png": "[encoded data removed]"
          },
          "metadata": {}
        }
      ]
    },
    {
      "cell_type": "code",
      "source": [
        "df = pd.read_csv('LVMPD-Stats.csv')\n",
        "df['ReportedOn'] = pd.to_datetime(df['ReportedOn'])\n",
        "\n",
        "df['DayOfWeek'] = df['ReportedOn'].dt.day_name()\n",
        "\n",
        "day_counts = df['DayOfWeek'].value_counts()\n",
        "\n",
        "sorted_day_counts = day_counts.sort_values(ascending=False)\n",
        "\n",
        "sorted_day_counts"
      ],
      "metadata": {
        "colab": {
          "base_uri": "https://localhost:8080/"
        },
        "id": "U6JJhgt17Lkr",
        "outputId": "66575a87-e5ee-46a4-abf5-be0f5b8631f3"
      },
      "id": "U6JJhgt17Lkr",
      "execution_count": 109,
      "outputs": [
        {
          "output_type": "execute_result",
          "data": {
            "text/plain": [
              "Sunday       51\n",
              "Saturday     44\n",
              "Monday       43\n",
              "Friday       40\n",
              "Thursday     37\n",
              "Tuesday      32\n",
              "Wednesday    28\n",
              "Name: DayOfWeek, dtype: int64"
            ]
          },
          "metadata": {},
          "execution_count": 109
        }
      ]
    },
    {
      "cell_type": "markdown",
      "source": [
        "The most frequent day is Sunday, followed by Saturday then Monday"
      ],
      "metadata": {
        "id": "aLfadq598aQd"
      },
      "id": "aLfadq598aQd"
    },
    {
      "cell_type": "code",
      "source": [],
      "metadata": {
        "id": "Zd4SiqcD8jB7"
      },
      "id": "Zd4SiqcD8jB7",
      "execution_count": null,
      "outputs": []
    }
  ],
  "metadata": {
    "kernelspec": {
      "display_name": "Python 3 (ipykernel)",
      "language": "python",
      "name": "python3"
    },
    "language_info": {
      "codemirror_mode": {
        "name": "ipython",
        "version": 3
      },
      "file_extension": ".py",
      "mimetype": "text/x-python",
      "name": "python",
      "nbconvert_exporter": "python",
      "pygments_lexer": "ipython3",
      "version": "3.11.5"
    },
    "colab": {
      "provenance": []
    }
  },
  "nbformat": 4,
  "nbformat_minor": 5
}